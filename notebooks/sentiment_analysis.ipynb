{
 "cells": [
  {
   "cell_type": "code",
   "execution_count": 1,
   "id": "281ab1f3",
   "metadata": {},
   "outputs": [
    {
     "name": "stdout",
     "output_type": "stream",
     "text": [
      "d:\\Acceler8\\acceler8\n"
     ]
    },
    {
     "name": "stderr",
     "output_type": "stream",
     "text": [
      "d:\\Acceler8\\acceler8\\.venv\\lib\\site-packages\\IPython\\core\\magics\\osm.py:417: UserWarning: This is now an optional IPython functionality, setting dhist requires you to install the `pickleshare` library.\n",
      "  self.shell.db['dhist'] = compress_dhist(dhist)[-100:]\n"
     ]
    }
   ],
   "source": [
    "cd .."
   ]
  },
  {
   "cell_type": "code",
   "execution_count": 2,
   "id": "7411cbdd",
   "metadata": {},
   "outputs": [],
   "source": [
    "import pandas as pd\n",
    "pd.set_option('display.max_colwidth', None)"
   ]
  },
  {
   "cell_type": "code",
   "execution_count": 3,
   "id": "e333c7df",
   "metadata": {},
   "outputs": [],
   "source": [
    "df = pd.read_csv('D:/Acceler8/acceler8/market_research_assist/data/cleaned/filtered_social_data_gpt-5.csv')"
   ]
  },
  {
   "cell_type": "code",
   "execution_count": 4,
   "id": "fe495262",
   "metadata": {},
   "outputs": [
    {
     "data": {
      "text/html": [
       "<div>\n",
       "<style scoped>\n",
       "    .dataframe tbody tr th:only-of-type {\n",
       "        vertical-align: middle;\n",
       "    }\n",
       "\n",
       "    .dataframe tbody tr th {\n",
       "        vertical-align: top;\n",
       "    }\n",
       "\n",
       "    .dataframe thead th {\n",
       "        text-align: right;\n",
       "    }\n",
       "</style>\n",
       "<table border=\"1\" class=\"dataframe\">\n",
       "  <thead>\n",
       "    <tr style=\"text-align: right;\">\n",
       "      <th></th>\n",
       "      <th>type</th>\n",
       "      <th>post_id</th>\n",
       "      <th>text</th>\n",
       "    </tr>\n",
       "  </thead>\n",
       "  <tbody>\n",
       "    <tr>\n",
       "      <th>0</th>\n",
       "      <td>comment</td>\n",
       "      <td>1mk1e0e</td>\n",
       "      <td>Your post is getting popular and we just featured it on our Discord! [Come check it out!](\\n\\nYou've also been given a special flair for your contribution. We appreciate your post!\\n\\n*I am a bot and this action was performed automatically.* GPT-4.6 medium rare Wondered why is was running like shit yesterday One step closer to being unemployed! never play on release day, so well no chatgpt today probably.</td>\n",
       "    </tr>\n",
       "    <tr>\n",
       "      <th>1</th>\n",
       "      <td>comment</td>\n",
       "      <td>1mk5wy0</td>\n",
       "      <td>The funny thing is, it was humans that failed to fix these obvious graph errors.  \\n\\nVibe presenting.  I think that if you’re a paying user, you’re just going to be getting mild to moderate improvements across the board. \\n\\nIf you’re a free user though, this is pretty big. Their graphs are making me feel like we are living inside a hallucinating GPT. For a non-software developer, can someone please explain how big of a leap this is? Software as a service especially</td>\n",
       "    </tr>\n",
       "    <tr>\n",
       "      <th>2</th>\n",
       "      <td>comment</td>\n",
       "      <td>1mk5xku</td>\n",
       "      <td>Hey /u/SeveralSeat2176!\\n\\nIf your post is a screenshot of a ChatGPT conversation, please reply to this message with the [conversation link]( or prompt.\\n\\nIf your post is a DALL-E 3 image post, please reply with the prompt used to make this image.\\n\\nConsider joining our [public discord server]( We have free bots with GPT-4 (with vision), image generators, and more!\\n\\n &amp;#x1F916;\\n\\nNote: For any ChatGPT-related concerns, email support@openai.com\\n\\n\\n*I am a bot, and this action was performed automatically. Please [contact the moderators of this subreddit](/message/compose/?to=/r/ChatGPT) if you have any questions or concerns.* Cool, why are you crying though? Is it available? I dont see it? How do you know which version you are using on free tier? The one shot app that replicated duolingo was a WOW from me lol...</td>\n",
       "    </tr>\n",
       "    <tr>\n",
       "      <th>3</th>\n",
       "      <td>comment</td>\n",
       "      <td>1mk8zj6</td>\n",
       "      <td>You have to understand that a lot of decisions aren’t based on how good AI is. It just has to be good enough to convince the non-technical person making decisions at an organization. As you can probably guess, the bar there is pretty low. As before, it’s essentially like paying a small amount of money to have the gestalt mind of Stack Overflow write some code for you.  As a professional SWE, I see these tools as a search on steroids.\\n\\nWhile the code is often wrong or requires several back and forth attempts to arrive at correct code, the tools often give me good enough hints to figure the rest out on my own.\\n\\nWhich is often much faster than digging through docs.\\n\\nSo I think it just makes experienced developers more efficient.  Vibe coders without real skill will be weeded out quickly. A helpful assessment of where we are right now:  My thoughts are that Claude-4-sonnet is really good and way better than chatgpt 4.\\n\\nI haven't tried chatgpt 5 yet. I see it's available though, so I'm going to try it for my next story.\\n\\nI use these models with Cursor AI and am a huge fan. I find coding way more relaxing. Nonetheless, one can't simply be a BA and use it, I still need to be a senior developer IMO to harness it correctly.</td>\n",
       "    </tr>\n",
       "    <tr>\n",
       "      <th>4</th>\n",
       "      <td>comment</td>\n",
       "      <td>1mkv8fl</td>\n",
       "      <td>&gt;A lot of the uproar surrounding GPT-5 is based on the overpromising from Sam Altman, who hyped up the latest announcement as if it were going to revolutionize the world and the way we interact with AI.\\n\\nIn the *tech* *industry*...? Is nothing sacred!?! Remember when this was touted as the final update that will convince the AI sceptic crowd? I do, it's not hard, it was last week. The good news is that if everybody tells Reddit that the new ChatGPT sucks, then ChatGPT will tell everybody else in a few days. I think the main issue is the removal of other models that previously could be used for specific use cases.\\n\\nI haven't noticed any improvements so far tbh, it's pretty meh. I cant believe the Chief Hype Officer would overhype its product</td>\n",
       "    </tr>\n",
       "    <tr>\n",
       "      <th>5</th>\n",
       "      <td>post</td>\n",
       "      <td>1mk1e0e</td>\n",
       "      <td>OpenAI just dropped the bomb, GPT-5 launches in a few hours.</td>\n",
       "    </tr>\n",
       "    <tr>\n",
       "      <th>6</th>\n",
       "      <td>post</td>\n",
       "      <td>1mk5wy0</td>\n",
       "      <td>GPT-5 Announcement Megathread</td>\n",
       "    </tr>\n",
       "    <tr>\n",
       "      <th>7</th>\n",
       "      <td>post</td>\n",
       "      <td>1mk5xku</td>\n",
       "      <td>GPT 5 in ChatGPT is available for FREE Tier 😭</td>\n",
       "    </tr>\n",
       "    <tr>\n",
       "      <th>8</th>\n",
       "      <td>post</td>\n",
       "      <td>1mk8zj6</td>\n",
       "      <td>The fact that ChatGPT 5 is barely an improvement shows that AI won't replace software engineers.</td>\n",
       "    </tr>\n",
       "    <tr>\n",
       "      <th>9</th>\n",
       "      <td>post</td>\n",
       "      <td>1mkv8fl</td>\n",
       "      <td>ChatGPT users are not happy with GPT-5 launch as thousands take to Reddit claiming the new upgrade ‘is horrible’</td>\n",
       "    </tr>\n",
       "  </tbody>\n",
       "</table>\n",
       "</div>"
      ],
      "text/plain": [
       "      type  post_id  \\\n",
       "0  comment  1mk1e0e   \n",
       "1  comment  1mk5wy0   \n",
       "2  comment  1mk5xku   \n",
       "3  comment  1mk8zj6   \n",
       "4  comment  1mkv8fl   \n",
       "5     post  1mk1e0e   \n",
       "6     post  1mk5wy0   \n",
       "7     post  1mk5xku   \n",
       "8     post  1mk8zj6   \n",
       "9     post  1mkv8fl   \n",
       "\n",
       "                                                                                                                                                                                                                                                                                                                                                                                                                                                                                                                                                                                                                                                                                                                                                                                                                                                                                                                                                                                                                                                                                                                                                                                                                                                                                           text  \n",
       "0                                                                                                                                                                                                                                                                                                                                                                                                                                                                                                                                                                                                                                                                                                                                                                                                                                                                      Your post is getting popular and we just featured it on our Discord! [Come check it out!](\\n\\nYou've also been given a special flair for your contribution. We appreciate your post!\\n\\n*I am a bot and this action was performed automatically.* GPT-4.6 medium rare Wondered why is was running like shit yesterday One step closer to being unemployed! never play on release day, so well no chatgpt today probably.  \n",
       "1                                                                                                                                                                                                                                                                                                                                                                                                                                                                                                                                                                                                                                                                                                                                                                                                       The funny thing is, it was humans that failed to fix these obvious graph errors.  \\n\\nVibe presenting.  I think that if you’re a paying user, you’re just going to be getting mild to moderate improvements across the board. \\n\\nIf you’re a free user though, this is pretty big. Their graphs are making me feel like we are living inside a hallucinating GPT. For a non-software developer, can someone please explain how big of a leap this is? Software as a service especially  \n",
       "2                                                                                                                                                                                                                                                                                                                                                                                                                                   Hey /u/SeveralSeat2176!\\n\\nIf your post is a screenshot of a ChatGPT conversation, please reply to this message with the [conversation link]( or prompt.\\n\\nIf your post is a DALL-E 3 image post, please reply with the prompt used to make this image.\\n\\nConsider joining our [public discord server]( We have free bots with GPT-4 (with vision), image generators, and more!\\n\\n &#x1F916;\\n\\nNote: For any ChatGPT-related concerns, email support@openai.com\\n\\n\\n*I am a bot, and this action was performed automatically. Please [contact the moderators of this subreddit](/message/compose/?to=/r/ChatGPT) if you have any questions or concerns.* Cool, why are you crying though? Is it available? I dont see it? How do you know which version you are using on free tier? The one shot app that replicated duolingo was a WOW from me lol...  \n",
       "3  You have to understand that a lot of decisions aren’t based on how good AI is. It just has to be good enough to convince the non-technical person making decisions at an organization. As you can probably guess, the bar there is pretty low. As before, it’s essentially like paying a small amount of money to have the gestalt mind of Stack Overflow write some code for you.  As a professional SWE, I see these tools as a search on steroids.\\n\\nWhile the code is often wrong or requires several back and forth attempts to arrive at correct code, the tools often give me good enough hints to figure the rest out on my own.\\n\\nWhich is often much faster than digging through docs.\\n\\nSo I think it just makes experienced developers more efficient.  Vibe coders without real skill will be weeded out quickly. A helpful assessment of where we are right now:  My thoughts are that Claude-4-sonnet is really good and way better than chatgpt 4.\\n\\nI haven't tried chatgpt 5 yet. I see it's available though, so I'm going to try it for my next story.\\n\\nI use these models with Cursor AI and am a huge fan. I find coding way more relaxing. Nonetheless, one can't simply be a BA and use it, I still need to be a senior developer IMO to harness it correctly.  \n",
       "4                                                                                                                                                                                                                                                                                                                                                                                                                                                                                                            >A lot of the uproar surrounding GPT-5 is based on the overpromising from Sam Altman, who hyped up the latest announcement as if it were going to revolutionize the world and the way we interact with AI.\\n\\nIn the *tech* *industry*...? Is nothing sacred!?! Remember when this was touted as the final update that will convince the AI sceptic crowd? I do, it's not hard, it was last week. The good news is that if everybody tells Reddit that the new ChatGPT sucks, then ChatGPT will tell everybody else in a few days. I think the main issue is the removal of other models that previously could be used for specific use cases.\\n\\nI haven't noticed any improvements so far tbh, it's pretty meh. I cant believe the Chief Hype Officer would overhype its product  \n",
       "5                                                                                                                                                                                                                                                                                                                                                                                                                                                                                                                                                                                                                                                                                                                                                                                                                                                                                                                                                                                                                                                                                                                                                                                                                                  OpenAI just dropped the bomb, GPT-5 launches in a few hours.  \n",
       "6                                                                                                                                                                                                                                                                                                                                                                                                                                                                                                                                                                                                                                                                                                                                                                                                                                                                                                                                                                                                                                                                                                                                                                                                                                                                 GPT-5 Announcement Megathread  \n",
       "7                                                                                                                                                                                                                                                                                                                                                                                                                                                                                                                                                                                                                                                                                                                                                                                                                                                                                                                                                                                                                                                                                                                                                                                                                                                 GPT 5 in ChatGPT is available for FREE Tier 😭  \n",
       "8                                                                                                                                                                                                                                                                                                                                                                                                                                                                                                                                                                                                                                                                                                                                                                                                                                                                                                                                                                                                                                                                                                                                                                                              The fact that ChatGPT 5 is barely an improvement shows that AI won't replace software engineers.  \n",
       "9                                                                                                                                                                                                                                                                                                                                                                                                                                                                                                                                                                                                                                                                                                                                                                                                                                                                                                                                                                                                                                                                                                                                                                              ChatGPT users are not happy with GPT-5 launch as thousands take to Reddit claiming the new upgrade ‘is horrible’  "
      ]
     },
     "execution_count": 4,
     "metadata": {},
     "output_type": "execute_result"
    }
   ],
   "source": [
    "df"
   ]
  },
  {
   "cell_type": "code",
   "execution_count": 6,
   "id": "b1319486",
   "metadata": {},
   "outputs": [
    {
     "name": "stderr",
     "output_type": "stream",
     "text": [
      "d:\\Acceler8\\acceler8\\.venv\\lib\\site-packages\\tqdm\\auto.py:21: TqdmWarning: IProgress not found. Please update jupyter and ipywidgets. See https://ipywidgets.readthedocs.io/en/stable/user_install.html\n",
      "  from .autonotebook import tqdm as notebook_tqdm\n",
      "Some weights of the model checkpoint at cardiffnlp/twitter-roberta-base-sentiment-latest were not used when initializing RobertaForSequenceClassification: ['roberta.pooler.dense.bias', 'roberta.pooler.dense.weight']\n",
      "- This IS expected if you are initializing RobertaForSequenceClassification from the checkpoint of a model trained on another task or with another architecture (e.g. initializing a BertForSequenceClassification model from a BertForPreTraining model).\n",
      "- This IS NOT expected if you are initializing RobertaForSequenceClassification from the checkpoint of a model that you expect to be exactly identical (initializing a BertForSequenceClassification model from a BertForSequenceClassification model).\n"
     ]
    }
   ],
   "source": [
    "from transformers import AutoModelForSequenceClassification\n",
    "from transformers import TFAutoModelForSequenceClassification\n",
    "from transformers import AutoTokenizer, AutoConfig\n",
    "import numpy as np\n",
    "from scipy.special import softmax\n",
    "# Preprocess text (username and link placeholders)\n",
    "def preprocess(text):\n",
    "    new_text = []\n",
    "    for t in text.split(\" \"):\n",
    "        t = '@user' if t.startswith('@') and len(t) > 1 else t\n",
    "        t = 'http' if t.startswith('http') else t\n",
    "        new_text.append(t)\n",
    "    return \" \".join(new_text)\n",
    "MODEL = f\"cardiffnlp/twitter-roberta-base-sentiment-latest\"\n",
    "tokenizer = AutoTokenizer.from_pretrained(MODEL)\n",
    "config = AutoConfig.from_pretrained(MODEL)\n",
    "# PT\n",
    "model = AutoModelForSequenceClassification.from_pretrained(MODEL)\n",
    "#model.save_pretrained(MODEL)\n",
    "def chunk_text(text, tokenizer, max_length=512):\n",
    "    tokens = tokenizer.tokenize(text)\n",
    "    chunks = [tokens[i:i+max_length-2] for i in range(0, len(tokens), max_length-2)]\n",
    "    return [tokenizer.convert_tokens_to_string(chunk) for chunk in chunks]\n",
    "\n",
    "def pred(df):\n",
    "    for post_id in df['post_id'].unique():\n",
    "        print(post_id)\n",
    "        text = preprocess(df[df['post_id'] == post_id]['text'].values[0])\n",
    "        \n",
    "        chunks = chunk_text(text, tokenizer)\n",
    "        all_scores = []\n",
    "\n",
    "        for chunk in chunks:\n",
    "            encoded_input = tokenizer(chunk, return_tensors='pt', truncation=True, max_length=512)\n",
    "            output = model(**encoded_input)\n",
    "            scores = softmax(output[0][0].detach().numpy())\n",
    "            all_scores.append(scores)\n",
    "        \n",
    "        avg_scores = np.mean(all_scores, axis=0)\n",
    "        ranking = np.argsort(avg_scores)[::-1]\n",
    "\n",
    "        for i in range(avg_scores.shape[0]):\n",
    "            l = config.id2label[ranking[i]]\n",
    "            s = avg_scores[ranking[i]]\n",
    "            print(f\"{i+1}) {l} {np.round(float(s), 4)}\")\n",
    "    return avg_scores\n"
   ]
  },
  {
   "cell_type": "code",
   "execution_count": 8,
   "id": "f6e3f5a8",
   "metadata": {},
   "outputs": [
    {
     "name": "stdout",
     "output_type": "stream",
     "text": [
      "1mk1e0e\n",
      "1) positive 0.9673\n",
      "2) neutral 0.0274\n",
      "3) negative 0.0052\n",
      "1mk5wy0\n",
      "1) negative 0.6195\n",
      "2) neutral 0.3283\n",
      "3) positive 0.0522\n",
      "1mk5xku\n",
      "1) neutral 0.8118\n",
      "2) positive 0.1372\n",
      "3) negative 0.051\n",
      "1mk8zj6\n",
      "1) neutral 0.5584\n",
      "2) negative 0.2743\n",
      "3) positive 0.1673\n",
      "1mkv8fl\n",
      "1) negative 0.5026\n",
      "2) neutral 0.4038\n",
      "3) positive 0.0936\n"
     ]
    }
   ],
   "source": [
    "df_scores = pred(df)"
   ]
  },
  {
   "cell_type": "code",
   "execution_count": 9,
   "id": "77564c35",
   "metadata": {},
   "outputs": [
    {
     "data": {
      "text/html": [
       "<div>\n",
       "<style scoped>\n",
       "    .dataframe tbody tr th:only-of-type {\n",
       "        vertical-align: middle;\n",
       "    }\n",
       "\n",
       "    .dataframe tbody tr th {\n",
       "        vertical-align: top;\n",
       "    }\n",
       "\n",
       "    .dataframe thead th {\n",
       "        text-align: right;\n",
       "    }\n",
       "</style>\n",
       "<table border=\"1\" class=\"dataframe\">\n",
       "  <thead>\n",
       "    <tr style=\"text-align: right;\">\n",
       "      <th></th>\n",
       "      <th>type</th>\n",
       "      <th>post_id</th>\n",
       "      <th>text</th>\n",
       "    </tr>\n",
       "  </thead>\n",
       "  <tbody>\n",
       "    <tr>\n",
       "      <th>4</th>\n",
       "      <td>comment</td>\n",
       "      <td>1mkv8fl</td>\n",
       "      <td>&gt;A lot of the uproar surrounding GPT-5 is based on the overpromising from Sam Altman, who hyped up the latest announcement as if it were going to revolutionize the world and the way we interact with AI.\\n\\nIn the *tech* *industry*...? Is nothing sacred!?! Remember when this was touted as the final update that will convince the AI sceptic crowd? I do, it's not hard, it was last week. The good news is that if everybody tells Reddit that the new ChatGPT sucks, then ChatGPT will tell everybody else in a few days. I think the main issue is the removal of other models that previously could be used for specific use cases.\\n\\nI haven't noticed any improvements so far tbh, it's pretty meh. I cant believe the Chief Hype Officer would overhype its product</td>\n",
       "    </tr>\n",
       "    <tr>\n",
       "      <th>9</th>\n",
       "      <td>post</td>\n",
       "      <td>1mkv8fl</td>\n",
       "      <td>ChatGPT users are not happy with GPT-5 launch as thousands take to Reddit claiming the new upgrade ‘is horrible’</td>\n",
       "    </tr>\n",
       "  </tbody>\n",
       "</table>\n",
       "</div>"
      ],
      "text/plain": [
       "      type  post_id  \\\n",
       "4  comment  1mkv8fl   \n",
       "9     post  1mkv8fl   \n",
       "\n",
       "                                                                                                                                                                                                                                                                                                                                                                                                                                                                                                                                                                                                                                                                                                                                                                                 text  \n",
       "4  >A lot of the uproar surrounding GPT-5 is based on the overpromising from Sam Altman, who hyped up the latest announcement as if it were going to revolutionize the world and the way we interact with AI.\\n\\nIn the *tech* *industry*...? Is nothing sacred!?! Remember when this was touted as the final update that will convince the AI sceptic crowd? I do, it's not hard, it was last week. The good news is that if everybody tells Reddit that the new ChatGPT sucks, then ChatGPT will tell everybody else in a few days. I think the main issue is the removal of other models that previously could be used for specific use cases.\\n\\nI haven't noticed any improvements so far tbh, it's pretty meh. I cant believe the Chief Hype Officer would overhype its product  \n",
       "9                                                                                                                                                                                                                                                                                                                                                                                                                                                                                                                                                                                                                                                                    ChatGPT users are not happy with GPT-5 launch as thousands take to Reddit claiming the new upgrade ‘is horrible’  "
      ]
     },
     "execution_count": 9,
     "metadata": {},
     "output_type": "execute_result"
    }
   ],
   "source": [
    "df[df[\"post_id\"]==\"1mkv8fl\"]"
   ]
  },
  {
   "cell_type": "code",
   "execution_count": 1,
   "id": "92a67013",
   "metadata": {},
   "outputs": [
    {
     "name": "stderr",
     "output_type": "stream",
     "text": [
      "d:\\Acceler8\\acceler8\\.venv\\lib\\site-packages\\tqdm\\auto.py:21: TqdmWarning: IProgress not found. Please update jupyter and ipywidgets. See https://ipywidgets.readthedocs.io/en/stable/user_install.html\n",
      "  from .autonotebook import tqdm as notebook_tqdm\n"
     ]
    }
   ],
   "source": [
    "from transformers import AutoModelForSequenceClassification\n",
    "from transformers import TFAutoModelForSequenceClassification\n",
    "from transformers import AutoTokenizer, AutoConfig\n",
    "import numpy as np\n",
    "from scipy.special import softmax\n",
    "import pandas as pd\n",
    "\n",
    "# Preprocess text (username and link placeholders)\n",
    "def preprocess(text):\n",
    "    new_text = []\n",
    "    for t in text.split(\" \"):\n",
    "        t = '@user' if t.startswith('@') and len(t) > 1 else t\n",
    "        t = 'http' if t.startswith('http') else t\n",
    "        new_text.append(t)\n",
    "    return \" \".join(new_text)\n",
    "\n",
    "def chunk_text(text, tokenizer, max_length=512):\n",
    "    tokens = tokenizer.tokenize(text)\n",
    "    chunks = [tokens[i:i+max_length-2] for i in range(0, len(tokens), max_length-2)]\n",
    "    return [tokenizer.convert_tokens_to_string(chunk) for chunk in chunks]\n",
    "\n",
    "def pred(df, model, tokenizer, config):\n",
    "    all_avg_scores = []\n",
    "    for post_id in df['post_id'].unique():\n",
    "        text = preprocess(df[df['post_id'] == post_id]['text'].values[0])\n",
    "        chunks = chunk_text(text, tokenizer)\n",
    "        all_scores = []\n",
    "\n",
    "        for chunk in chunks:\n",
    "            encoded_input = tokenizer(chunk, return_tensors='pt', truncation=True, max_length=512)\n",
    "            output = model(**encoded_input)\n",
    "            scores = softmax(output[0][0].detach().numpy())\n",
    "            all_scores.append(scores)\n",
    "        \n",
    "        avg_scores = np.mean(all_scores, axis=0)\n",
    "        all_avg_scores.append(avg_scores)\n",
    "    return np.array(all_avg_scores)"
   ]
  },
  {
   "cell_type": "code",
   "execution_count": 6,
   "id": "68330890",
   "metadata": {},
   "outputs": [],
   "source": [
    "def sentiment_main(data_path):\n",
    "    \"\"\"\n",
    "    Reads data from the given path, performs sentiment analysis,\n",
    "    and returns the overall average sentiment scores.\n",
    "    \"\"\"\n",
    "    MODEL = f\"cardiffnlp/twitter-roberta-base-sentiment-latest\"\n",
    "    tokenizer = AutoTokenizer.from_pretrained(MODEL)\n",
    "    config = AutoConfig.from_pretrained(MODEL)\n",
    "    model = AutoModelForSequenceClassification.from_pretrained(MODEL)\n",
    "\n",
    "    df = pd.read_csv(data_path)\n",
    "    all_avg_scores = pred(df, model, tokenizer, config)\n",
    "    overall_avg = np.mean(all_avg_scores, axis=0)\n",
    "    # Map to label for easier interpretation\n",
    "    label_scores = {config.id2label[i]: float(overall_avg[i]) for i in range(len(overall_avg))}\n",
    "    return label_scores"
   ]
  },
  {
   "cell_type": "code",
   "execution_count": 7,
   "id": "dcd8a926",
   "metadata": {},
   "outputs": [
    {
     "name": "stderr",
     "output_type": "stream",
     "text": [
      "Some weights of the model checkpoint at cardiffnlp/twitter-roberta-base-sentiment-latest were not used when initializing RobertaForSequenceClassification: ['roberta.pooler.dense.bias', 'roberta.pooler.dense.weight']\n",
      "- This IS expected if you are initializing RobertaForSequenceClassification from the checkpoint of a model trained on another task or with another architecture (e.g. initializing a BertForSequenceClassification model from a BertForPreTraining model).\n",
      "- This IS NOT expected if you are initializing RobertaForSequenceClassification from the checkpoint of a model that you expect to be exactly identical (initializing a BertForSequenceClassification model from a BertForSequenceClassification model).\n"
     ]
    },
    {
     "data": {
      "text/plain": [
       "{'negative': 0.340097576379776,\n",
       " 'neutral': 0.49169081449508667,\n",
       " 'positive': 0.16821160912513733}"
      ]
     },
     "execution_count": 7,
     "metadata": {},
     "output_type": "execute_result"
    }
   ],
   "source": [
    "sentiment_main(\"D:/Acceler8/acceler8/market_research_assist/data/cleaned/filtered_social_data_openai.csv\")"
   ]
  },
  {
   "cell_type": "code",
   "execution_count": null,
   "id": "4403295f",
   "metadata": {},
   "outputs": [],
   "source": []
  }
 ],
 "metadata": {
  "kernelspec": {
   "display_name": ".venv",
   "language": "python",
   "name": "python3"
  },
  "language_info": {
   "codemirror_mode": {
    "name": "ipython",
    "version": 3
   },
   "file_extension": ".py",
   "mimetype": "text/x-python",
   "name": "python",
   "nbconvert_exporter": "python",
   "pygments_lexer": "ipython3",
   "version": "3.10.6"
  }
 },
 "nbformat": 4,
 "nbformat_minor": 5
}
