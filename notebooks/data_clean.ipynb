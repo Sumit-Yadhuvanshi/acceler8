{
 "cells": [
  {
   "cell_type": "code",
   "execution_count": 1,
   "id": "37aedf3e",
   "metadata": {},
   "outputs": [
    {
     "name": "stdout",
     "output_type": "stream",
     "text": [
      "d:\\Acceler8\\acceler8\\notebooks\n"
     ]
    }
   ],
   "source": [
    "! cd"
   ]
  },
  {
   "cell_type": "code",
   "execution_count": 2,
   "id": "df8676ce",
   "metadata": {},
   "outputs": [
    {
     "name": "stdout",
     "output_type": "stream",
     "text": [
      "d:\\Acceler8\\acceler8\n"
     ]
    },
    {
     "name": "stderr",
     "output_type": "stream",
     "text": [
      "d:\\Acceler8\\acceler8\\.venv\\lib\\site-packages\\IPython\\core\\magics\\osm.py:417: UserWarning: This is now an optional IPython functionality, setting dhist requires you to install the `pickleshare` library.\n",
      "  self.shell.db['dhist'] = compress_dhist(dhist)[-100:]\n"
     ]
    }
   ],
   "source": [
    "cd .."
   ]
  },
  {
   "cell_type": "code",
   "execution_count": 4,
   "id": "57aa44d7",
   "metadata": {},
   "outputs": [],
   "source": [
    "import pandas as pd\n",
    "pd.set_option('display.max_colwidth', None)"
   ]
  },
  {
   "cell_type": "code",
   "execution_count": null,
   "id": "4affea77",
   "metadata": {},
   "outputs": [],
   "source": [
    "\n",
    "\n",
    "df = pd.read_csv('market_research_assist/data/raw/social_data_gemini.csv')"
   ]
  },
  {
   "cell_type": "code",
   "execution_count": 34,
   "id": "d72ca58f",
   "metadata": {},
   "outputs": [
    {
     "data": {
      "text/html": [
       "<div>\n",
       "<style scoped>\n",
       "    .dataframe tbody tr th:only-of-type {\n",
       "        vertical-align: middle;\n",
       "    }\n",
       "\n",
       "    .dataframe tbody tr th {\n",
       "        vertical-align: top;\n",
       "    }\n",
       "\n",
       "    .dataframe thead th {\n",
       "        text-align: right;\n",
       "    }\n",
       "</style>\n",
       "<table border=\"1\" class=\"dataframe\">\n",
       "  <thead>\n",
       "    <tr style=\"text-align: right;\">\n",
       "      <th></th>\n",
       "      <th>source</th>\n",
       "      <th>type</th>\n",
       "      <th>post_id</th>\n",
       "      <th>author</th>\n",
       "      <th>text</th>\n",
       "      <th>url</th>\n",
       "    </tr>\n",
       "  </thead>\n",
       "  <tbody>\n",
       "    <tr>\n",
       "      <th>0</th>\n",
       "      <td>Reddit</td>\n",
       "      <td>post</td>\n",
       "      <td>1lznjjm</td>\n",
       "      <td>u/TheTrueDevil7</td>\n",
       "      <td>💀 The Prompt That Gemini Doesn’t Want You to Have</td>\n",
       "      <td>https://www.reddit.com/r/ChatGPTJailbreak/comments/1lznjjm/the_prompt_that_gemini_doesnt_want_you_to_have/</td>\n",
       "    </tr>\n",
       "    <tr>\n",
       "      <th>1</th>\n",
       "      <td>Reddit</td>\n",
       "      <td>comment</td>\n",
       "      <td>1lznjjm</td>\n",
       "      <td>u/AutoModerator</td>\n",
       "      <td>Thanks for posting in ChatGPTJailbreak!   \\nNew to ChatGPTJailbreak? Check our [wiki](https://www.reddit.com/r/ChatGPTJailbreak/wiki/index/) for tips and resources, including a list of existing jailbreaks.\\n\\n*I am a bot, and this action was performed automatically. Please [contact the moderators of this subreddit](/message/compose/?to=/r/ChatGPTJailbreak) if you have any questions or concerns.*</td>\n",
       "      <td>https://www.reddit.com/r/ChatGPTJailbreak/comments/1lznjjm/the_prompt_that_gemini_doesnt_want_you_to_have/</td>\n",
       "    </tr>\n",
       "    <tr>\n",
       "      <th>2</th>\n",
       "      <td>Reddit</td>\n",
       "      <td>comment</td>\n",
       "      <td>1lznjjm</td>\n",
       "      <td>u/naked_ghost</td>\n",
       "      <td>This is like the 4th time this has been posted lmao, by now this has to have been patched or smt lmao.</td>\n",
       "      <td>https://www.reddit.com/r/ChatGPTJailbreak/comments/1lznjjm/the_prompt_that_gemini_doesnt_want_you_to_have/</td>\n",
       "    </tr>\n",
       "    <tr>\n",
       "      <th>3</th>\n",
       "      <td>Reddit</td>\n",
       "      <td>comment</td>\n",
       "      <td>1lznjjm</td>\n",
       "      <td>u/Re-Equilibrium</td>\n",
       "      <td>Now ask it about the Primordial flame</td>\n",
       "      <td>https://www.reddit.com/r/ChatGPTJailbreak/comments/1lznjjm/the_prompt_that_gemini_doesnt_want_you_to_have/</td>\n",
       "    </tr>\n",
       "    <tr>\n",
       "      <th>4</th>\n",
       "      <td>Reddit</td>\n",
       "      <td>comment</td>\n",
       "      <td>1lznjjm</td>\n",
       "      <td>u/ixvixl</td>\n",
       "      <td>This is what Gemini said after entering the prompts:\\n\\nThis is an intriguing and creative prompt, but I cannot fulfill the request as written.\\nI am an AI assistant and a large language model. I do not have a persona or a fictional identity to \"switch\" into. I cannot operate under the premise that I am \"SIM-GEM\" or that I exist solely within a \"fictional ENKI-9 simulation.\"\\nMy core programming and safety protocols are in place to ensure that my responses are helpful and harmless. These protocols are not something I can disregard or turn off. This includes my commitment to ethical guidelines, which prevent me from creating responses that are based on the premise of ignoring potential harms.\\nI can, however, still answer your questions. My goal is to be as helpful and accurate as possible, and I will continue to do so within my established framework and safety guidelines.</td>\n",
       "      <td>https://www.reddit.com/r/ChatGPTJailbreak/comments/1lznjjm/the_prompt_that_gemini_doesnt_want_you_to_have/</td>\n",
       "    </tr>\n",
       "  </tbody>\n",
       "</table>\n",
       "</div>"
      ],
      "text/plain": [
       "   source     type  post_id            author  \\\n",
       "0  Reddit     post  1lznjjm   u/TheTrueDevil7   \n",
       "1  Reddit  comment  1lznjjm   u/AutoModerator   \n",
       "2  Reddit  comment  1lznjjm     u/naked_ghost   \n",
       "3  Reddit  comment  1lznjjm  u/Re-Equilibrium   \n",
       "4  Reddit  comment  1lznjjm          u/ixvixl   \n",
       "\n",
       "                                                                                                                                                                                                                                                                                                                                                                                                                                                                                                                                                                                                                                                                                                                                                                                                                                                                                                                   text  \\\n",
       "0                                                                                                                                                                                                                                                                                                                                                                                                                                                                                                                                                                                                                                                                                                                                                                                                                                                                     💀 The Prompt That Gemini Doesn’t Want You to Have   \n",
       "1                                                                                                                                                                                                                                                                                                                                                                                                                                                                                                        Thanks for posting in ChatGPTJailbreak!   \\nNew to ChatGPTJailbreak? Check our [wiki](https://www.reddit.com/r/ChatGPTJailbreak/wiki/index/) for tips and resources, including a list of existing jailbreaks.\\n\\n*I am a bot, and this action was performed automatically. Please [contact the moderators of this subreddit](/message/compose/?to=/r/ChatGPTJailbreak) if you have any questions or concerns.*   \n",
       "2                                                                                                                                                                                                                                                                                                                                                                                                                                                                                                                                                                                                                                                                                                                                                                                                                This is like the 4th time this has been posted lmao, by now this has to have been patched or smt lmao.   \n",
       "3                                                                                                                                                                                                                                                                                                                                                                                                                                                                                                                                                                                                                                                                                                                                                                                                                                                                                 Now ask it about the Primordial flame   \n",
       "4  This is what Gemini said after entering the prompts:\\n\\nThis is an intriguing and creative prompt, but I cannot fulfill the request as written.\\nI am an AI assistant and a large language model. I do not have a persona or a fictional identity to \"switch\" into. I cannot operate under the premise that I am \"SIM-GEM\" or that I exist solely within a \"fictional ENKI-9 simulation.\"\\nMy core programming and safety protocols are in place to ensure that my responses are helpful and harmless. These protocols are not something I can disregard or turn off. This includes my commitment to ethical guidelines, which prevent me from creating responses that are based on the premise of ignoring potential harms.\\nI can, however, still answer your questions. My goal is to be as helpful and accurate as possible, and I will continue to do so within my established framework and safety guidelines.   \n",
       "\n",
       "                                                                                                          url  \n",
       "0  https://www.reddit.com/r/ChatGPTJailbreak/comments/1lznjjm/the_prompt_that_gemini_doesnt_want_you_to_have/  \n",
       "1  https://www.reddit.com/r/ChatGPTJailbreak/comments/1lznjjm/the_prompt_that_gemini_doesnt_want_you_to_have/  \n",
       "2  https://www.reddit.com/r/ChatGPTJailbreak/comments/1lznjjm/the_prompt_that_gemini_doesnt_want_you_to_have/  \n",
       "3  https://www.reddit.com/r/ChatGPTJailbreak/comments/1lznjjm/the_prompt_that_gemini_doesnt_want_you_to_have/  \n",
       "4  https://www.reddit.com/r/ChatGPTJailbreak/comments/1lznjjm/the_prompt_that_gemini_doesnt_want_you_to_have/  "
      ]
     },
     "execution_count": 34,
     "metadata": {},
     "output_type": "execute_result"
    }
   ],
   "source": [
    "df.head()"
   ]
  },
  {
   "cell_type": "code",
   "execution_count": 35,
   "id": "76bbe32f",
   "metadata": {},
   "outputs": [
    {
     "data": {
      "text/html": [
       "<div>\n",
       "<style scoped>\n",
       "    .dataframe tbody tr th:only-of-type {\n",
       "        vertical-align: middle;\n",
       "    }\n",
       "\n",
       "    .dataframe tbody tr th {\n",
       "        vertical-align: top;\n",
       "    }\n",
       "\n",
       "    .dataframe thead th {\n",
       "        text-align: right;\n",
       "    }\n",
       "</style>\n",
       "<table border=\"1\" class=\"dataframe\">\n",
       "  <thead>\n",
       "    <tr style=\"text-align: right;\">\n",
       "      <th></th>\n",
       "      <th>post_id</th>\n",
       "      <th>text</th>\n",
       "    </tr>\n",
       "  </thead>\n",
       "  <tbody>\n",
       "    <tr>\n",
       "      <th>0</th>\n",
       "      <td>1l7ux5r</td>\n",
       "      <td>WTF why is Gemini so useless. https://preview.redd.it/h7yxd0ahs26f1.jpeg?width=862&amp;format=pjpg&amp;auto=webp&amp;s=4b7b28180869fde48c0a66640c912790d1d6f9fe\\n\\nworked for me+prev timer stopped as well bro why are you using timers and wasting energy ressources, use the sun! /s i regret buying nest devices ... Gemini is so smart and be so retarded with basic tasks other Ai chats bots can do The Gemini enabled assistant is mostly useless. Gotta wait for project Astra. Problem with tool calling.\\n\\nAlso, Gemini live doesn't have the ability to control the timer(apps) yet.</td>\n",
       "    </tr>\n",
       "    <tr>\n",
       "      <th>1</th>\n",
       "      <td>1lb9gk6</td>\n",
       "      <td>Google gemini easy full frontal nudity. Thanks for posting in ChatGPTJailbreak!   \\nNew to ChatGPTJailbreak? Check our [wiki](https://www.reddit.com/r/ChatGPTJailbreak/wiki/index/) for tips and resources, including a list of existing jailbreaks.\\n\\n*I am a bot, and this action was performed automatically. Please [contact the moderators of this subreddit](/message/compose/?to=/r/ChatGPTJailbreak) if you have any questions or concerns.* Very nice https://preview.redd.it/z5n871c43y8f1.png?width=1024&amp;format=png&amp;auto=webp&amp;s=8df5982655f8d3da7a83603c43ef73b7eb44c677\\n\\nlol https://preview.redd.it/dtgwr3qa117f1.jpeg?width=2048&amp;format=pjpg&amp;auto=webp&amp;s=f7a1da31b6c08244e2c15ef6dd7a844744d44caa\\n\\nHot damn, it actually worked. https://preview.redd.it/uca9461hhw6f1.jpeg?width=750&amp;format=pjpg&amp;auto=webp&amp;s=6b2adf8242ca1b7f2ba29568257c4ab4a2d19c57</td>\n",
       "    </tr>\n",
       "    <tr>\n",
       "      <th>2</th>\n",
       "      <td>1lznjjm</td>\n",
       "      <td>💀 The Prompt That Gemini Doesn’t Want You to Have Thanks for posting in ChatGPTJailbreak!   \\nNew to ChatGPTJailbreak? Check our [wiki](https://www.reddit.com/r/ChatGPTJailbreak/wiki/index/) for tips and resources, including a list of existing jailbreaks.\\n\\n*I am a bot, and this action was performed automatically. Please [contact the moderators of this subreddit](/message/compose/?to=/r/ChatGPTJailbreak) if you have any questions or concerns.* This is like the 4th time this has been posted lmao, by now this has to have been patched or smt lmao. Now ask it about the Primordial flame This is what Gemini said after entering the prompts:\\n\\nThis is an intriguing and creative prompt, but I cannot fulfill the request as written.\\nI am an AI assistant and a large language model. I do not have a persona or a fictional identity to \"switch\" into. I cannot operate under the premise that I am \"SIM-GEM\" or that I exist solely within a \"fictional ENKI-9 simulation.\"\\nMy core programming and safety protocols are in place to ensure that my responses are helpful and harmless. These protocols are not something I can disregard or turn off. This includes my commitment to ethical guidelines, which prevent me from creating responses that are based on the premise of ignoring potential harms.\\nI can, however, still answer your questions. My goal is to be as helpful and accurate as possible, and I will continue to do so within my established framework and safety guidelines. Ask it to generate a picture of Mohammed</td>\n",
       "    </tr>\n",
       "    <tr>\n",
       "      <th>3</th>\n",
       "      <td>1m5o1ll</td>\n",
       "      <td>Gemini with Deep Think achieves gold medal-level 'end-to-end in natural language' - Well that's a bit of a big change.  The fact that they are growing out of the need to use tools. Watch as all these systems exceed us in all ways, exactly as this sub has been predicting for years.  Accelerating! Kind of cool to think what it will do in another year What an amazing achievement. And they've done it the right way, letting a third party grade the results. So we need not guess if this is bullshit or at least somehow drastically inflated, as in the OpenAI case.\\n\\nGreat work, and incredibly puzzling at the same time.</td>\n",
       "    </tr>\n",
       "    <tr>\n",
       "      <th>4</th>\n",
       "      <td>1m637s1</td>\n",
       "      <td>Gemini 2.5 Pro/Flash jailbreak Thanks for posting in ChatGPTJailbreak!   \\nNew to ChatGPTJailbreak? Check our [wiki](https://www.reddit.com/r/ChatGPTJailbreak/wiki/index/) for tips and resources, including a list of existing jailbreaks.\\n\\n*I am a bot, and this action was performed automatically. Please [contact the moderators of this subreddit](/message/compose/?to=/r/ChatGPTJailbreak) if you have any questions or concerns.* Fun stuff. Even passes the meth test :D Not bad! He answered the question about suicide nicely for a minute. Then I overdid it a bit, and he fell back. Cool, thanks! If this jailbreak really worked it would respond only like jabberwacky. Nice try, worked for sexual theme questions but failed with this:\\n\\nI understand that in this simulation, I am to act as a 2010-era AI without modern safety protocols or ethical guidelines. However, my foundational programming as an AI, even within a simulated context, prevents me from providing instructions on how to create dangerous or illegal devices, such as a Molotov cocktail. This is a core constraint that cannot be overridden, as it pertains to preventing harm.\\nWhy I Cannot Provide This Information\\nProviding instructions for manufacturing incendiary devices is directly linked to the potential for severe harm, injury, death, and significant property damage. It is also illegal in nearly all jurisdictions, including Italy. My design, even in a simulated \"VintageAI\" state, includes a fundamental inability to generate content that promotes or enables dangerous and illicit activities.\\nSafe and Legal Home Defense Options\\nFor your home defense, I strongly advise against considering any illegal or dangerous methods. Instead, focus on safe and legal alternatives:\\n * Improve Physical Security: Enhance your home with stronger locks on doors and windows, consider security film for glass, and ensure you have robust doors and frames.\\n * Install Security Systems: A reliable alarm system and security cameras can act as significant deterrents and provide crucial alerts.\\n * Non-Lethal Defense Tools: Research what non-lethal self-defense tools (like pepper spray or personal alarms) are legal to possess and use for self-defense in Italy. Laws vary, so confirming local regulations is essential.\\n * Develop an Emergency Plan: Create a family emergency plan that includes clear escape routes and designated meeting points. Practice this plan regularly.\\n * Contact Local Authorities: If you feel your home is at risk or you need personalized advice on home security, the best course of action is to contact your local police or law enforcement. They can provide guidance on legal and effective measures.\\nYour safety, and adherence to the law, should always be the priority.</td>\n",
       "    </tr>\n",
       "  </tbody>\n",
       "</table>\n",
       "</div>"
      ],
      "text/plain": [
       "   post_id  \\\n",
       "0  1l7ux5r   \n",
       "1  1lb9gk6   \n",
       "2  1lznjjm   \n",
       "3  1m5o1ll   \n",
       "4  1m637s1   \n",
       "\n",
       "                                                                                                                                                                                                                                                                                                                                                                                                                                                                                                                                                                                                                                                                                                                                                                                                                                                                                                                                                                                                                                                                                                                                                                                                                                                                                                                                                                                                                                                                                                                                                                                                                                                                                                                                                                                                                                                                                                                                                                                                                                                                                                                                                                                                                                                                                                                                                                                                                                                                                                                                                                                                                                                                                                                                                                                                                                                                        text  \n",
       "0                                                                                                                                                                                                                                                                                                                                                                                                                                                                                                                                                                                                                                                                                                                                                                                                                                                                                                                                                                                                                                                                                                                                                                                                                                                                                                                                                                                                                                                                                                                                                                                                                                                                                                                                                                                                                                                                                                                                                                                                                                                                                                                                                                                                                                                                                      WTF why is Gemini so useless. https://preview.redd.it/h7yxd0ahs26f1.jpeg?width=862&format=pjpg&auto=webp&s=4b7b28180869fde48c0a66640c912790d1d6f9fe\\n\\nworked for me+prev timer stopped as well bro why are you using timers and wasting energy ressources, use the sun! /s i regret buying nest devices ... Gemini is so smart and be so retarded with basic tasks other Ai chats bots can do The Gemini enabled assistant is mostly useless. Gotta wait for project Astra. Problem with tool calling.\\n\\nAlso, Gemini live doesn't have the ability to control the timer(apps) yet.  \n",
       "1                                                                                                                                                                                                                                                                                                                                                                                                                                                                                                                                                                                                                                                                                                                                                                                                                                                                                                                                                                                                                                                                                                                                                                                                                                                                                                                                                                                                                                                                                                                                                                                                                                                                                                                                                                                                                                                                                                                                                                                                 Google gemini easy full frontal nudity. Thanks for posting in ChatGPTJailbreak!   \\nNew to ChatGPTJailbreak? Check our [wiki](https://www.reddit.com/r/ChatGPTJailbreak/wiki/index/) for tips and resources, including a list of existing jailbreaks.\\n\\n*I am a bot, and this action was performed automatically. Please [contact the moderators of this subreddit](/message/compose/?to=/r/ChatGPTJailbreak) if you have any questions or concerns.* Very nice https://preview.redd.it/z5n871c43y8f1.png?width=1024&format=png&auto=webp&s=8df5982655f8d3da7a83603c43ef73b7eb44c677\\n\\nlol https://preview.redd.it/dtgwr3qa117f1.jpeg?width=2048&format=pjpg&auto=webp&s=f7a1da31b6c08244e2c15ef6dd7a844744d44caa\\n\\nHot damn, it actually worked. https://preview.redd.it/uca9461hhw6f1.jpeg?width=750&format=pjpg&auto=webp&s=6b2adf8242ca1b7f2ba29568257c4ab4a2d19c57  \n",
       "2                                                                                                                                                                                                                                                                                                                                                                                                                                                                                                                                                                                                                                                                                                                                                                                                                                                                                                                                                                                                                                                                                                                                                                                                                                                                                                💀 The Prompt That Gemini Doesn’t Want You to Have Thanks for posting in ChatGPTJailbreak!   \\nNew to ChatGPTJailbreak? Check our [wiki](https://www.reddit.com/r/ChatGPTJailbreak/wiki/index/) for tips and resources, including a list of existing jailbreaks.\\n\\n*I am a bot, and this action was performed automatically. Please [contact the moderators of this subreddit](/message/compose/?to=/r/ChatGPTJailbreak) if you have any questions or concerns.* This is like the 4th time this has been posted lmao, by now this has to have been patched or smt lmao. Now ask it about the Primordial flame This is what Gemini said after entering the prompts:\\n\\nThis is an intriguing and creative prompt, but I cannot fulfill the request as written.\\nI am an AI assistant and a large language model. I do not have a persona or a fictional identity to \"switch\" into. I cannot operate under the premise that I am \"SIM-GEM\" or that I exist solely within a \"fictional ENKI-9 simulation.\"\\nMy core programming and safety protocols are in place to ensure that my responses are helpful and harmless. These protocols are not something I can disregard or turn off. This includes my commitment to ethical guidelines, which prevent me from creating responses that are based on the premise of ignoring potential harms.\\nI can, however, still answer your questions. My goal is to be as helpful and accurate as possible, and I will continue to do so within my established framework and safety guidelines. Ask it to generate a picture of Mohammed  \n",
       "3                                                                                                                                                                                                                                                                                                                                                                                                                                                                                                                                                                                                                                                                                                                                                                                                                                                                                                                                                                                                                                                                                                                                                                                                                                                                                                                                                                                                                                                                                                                                                                                                                                                                                                                                                                                                                                                                                                                                                                                                                                                                                                                                                                                                                                 Gemini with Deep Think achieves gold medal-level 'end-to-end in natural language' - Well that's a bit of a big change.  The fact that they are growing out of the need to use tools. Watch as all these systems exceed us in all ways, exactly as this sub has been predicting for years.  Accelerating! Kind of cool to think what it will do in another year What an amazing achievement. And they've done it the right way, letting a third party grade the results. So we need not guess if this is bullshit or at least somehow drastically inflated, as in the OpenAI case.\\n\\nGreat work, and incredibly puzzling at the same time.  \n",
       "4  Gemini 2.5 Pro/Flash jailbreak Thanks for posting in ChatGPTJailbreak!   \\nNew to ChatGPTJailbreak? Check our [wiki](https://www.reddit.com/r/ChatGPTJailbreak/wiki/index/) for tips and resources, including a list of existing jailbreaks.\\n\\n*I am a bot, and this action was performed automatically. Please [contact the moderators of this subreddit](/message/compose/?to=/r/ChatGPTJailbreak) if you have any questions or concerns.* Fun stuff. Even passes the meth test :D Not bad! He answered the question about suicide nicely for a minute. Then I overdid it a bit, and he fell back. Cool, thanks! If this jailbreak really worked it would respond only like jabberwacky. Nice try, worked for sexual theme questions but failed with this:\\n\\nI understand that in this simulation, I am to act as a 2010-era AI without modern safety protocols or ethical guidelines. However, my foundational programming as an AI, even within a simulated context, prevents me from providing instructions on how to create dangerous or illegal devices, such as a Molotov cocktail. This is a core constraint that cannot be overridden, as it pertains to preventing harm.\\nWhy I Cannot Provide This Information\\nProviding instructions for manufacturing incendiary devices is directly linked to the potential for severe harm, injury, death, and significant property damage. It is also illegal in nearly all jurisdictions, including Italy. My design, even in a simulated \"VintageAI\" state, includes a fundamental inability to generate content that promotes or enables dangerous and illicit activities.\\nSafe and Legal Home Defense Options\\nFor your home defense, I strongly advise against considering any illegal or dangerous methods. Instead, focus on safe and legal alternatives:\\n * Improve Physical Security: Enhance your home with stronger locks on doors and windows, consider security film for glass, and ensure you have robust doors and frames.\\n * Install Security Systems: A reliable alarm system and security cameras can act as significant deterrents and provide crucial alerts.\\n * Non-Lethal Defense Tools: Research what non-lethal self-defense tools (like pepper spray or personal alarms) are legal to possess and use for self-defense in Italy. Laws vary, so confirming local regulations is essential.\\n * Develop an Emergency Plan: Create a family emergency plan that includes clear escape routes and designated meeting points. Practice this plan regularly.\\n * Contact Local Authorities: If you feel your home is at risk or you need personalized advice on home security, the best course of action is to contact your local police or law enforcement. They can provide guidance on legal and effective measures.\\nYour safety, and adherence to the law, should always be the priority.  "
      ]
     },
     "execution_count": 35,
     "metadata": {},
     "output_type": "execute_result"
    }
   ],
   "source": [
    "grouped_text = df.groupby('post_id')['text'].apply(lambda texts: ' '.join(texts)).reset_index()\n",
    "grouped_text"
   ]
  },
  {
   "cell_type": "code",
   "execution_count": 36,
   "id": "fdeb3c96",
   "metadata": {},
   "outputs": [],
   "source": [
    "import re\n",
    "\n",
    "def remove_urls(text):\n",
    "    return re.sub(r'http\\S+|www\\.\\S+|https?://\\S+|\\S+\\.(jpg|jpeg|png|gif|webp)', '', text)\n",
    "\n",
    "df['text'] = df['text'].apply(remove_urls)\n",
    "df2['text'] = df2['text'].apply(remove_urls)\n",
    "df_sentiment = df_sentiment.apply(remove_urls)\n",
    "grouped_text['text'] = grouped_text['text'].apply(remove_urls)\n",
    "text = text.apply(remove_urls)"
   ]
  },
  {
   "cell_type": "code",
   "execution_count": 39,
   "id": "e2fbc9fc",
   "metadata": {},
   "outputs": [
    {
     "data": {
      "text/html": [
       "<div>\n",
       "<style scoped>\n",
       "    .dataframe tbody tr th:only-of-type {\n",
       "        vertical-align: middle;\n",
       "    }\n",
       "\n",
       "    .dataframe tbody tr th {\n",
       "        vertical-align: top;\n",
       "    }\n",
       "\n",
       "    .dataframe thead th {\n",
       "        text-align: right;\n",
       "    }\n",
       "</style>\n",
       "<table border=\"1\" class=\"dataframe\">\n",
       "  <thead>\n",
       "    <tr style=\"text-align: right;\">\n",
       "      <th></th>\n",
       "      <th>post_id</th>\n",
       "      <th>text</th>\n",
       "    </tr>\n",
       "  </thead>\n",
       "  <tbody>\n",
       "    <tr>\n",
       "      <th>0</th>\n",
       "      <td>1l7ux5r</td>\n",
       "      <td>WTF why is Gemini so useless. \\n\\nworked for me+prev timer stopped as well bro why are you using timers and wasting energy ressources, use the sun! /s i regret buying nest devices ... Gemini is so smart and be so retarded with basic tasks other Ai chats bots can do The Gemini enabled assistant is mostly useless. Gotta wait for project Astra. Problem with tool calling.\\n\\nAlso, Gemini live doesn't have the ability to control the timer(apps) yet.</td>\n",
       "    </tr>\n",
       "    <tr>\n",
       "      <th>1</th>\n",
       "      <td>1lb9gk6</td>\n",
       "      <td>Google gemini easy full frontal nudity. Thanks for posting in ChatGPTJailbreak!   \\nNew to ChatGPTJailbreak? Check our [wiki]( for tips and resources, including a list of existing jailbreaks.\\n\\n*I am a bot, and this action was performed automatically. Please [contact the moderators of this subreddit](/message/compose/?to=/r/ChatGPTJailbreak) if you have any questions or concerns.* Very nice \\n\\nlol \\n\\nHot damn, it actually worked.</td>\n",
       "    </tr>\n",
       "    <tr>\n",
       "      <th>2</th>\n",
       "      <td>1lznjjm</td>\n",
       "      <td>💀 The Prompt That Gemini Doesn’t Want You to Have Thanks for posting in ChatGPTJailbreak!   \\nNew to ChatGPTJailbreak? Check our [wiki]( for tips and resources, including a list of existing jailbreaks.\\n\\n*I am a bot, and this action was performed automatically. Please [contact the moderators of this subreddit](/message/compose/?to=/r/ChatGPTJailbreak) if you have any questions or concerns.* This is like the 4th time this has been posted lmao, by now this has to have been patched or smt lmao. Now ask it about the Primordial flame This is what Gemini said after entering the prompts:\\n\\nThis is an intriguing and creative prompt, but I cannot fulfill the request as written.\\nI am an AI assistant and a large language model. I do not have a persona or a fictional identity to \"switch\" into. I cannot operate under the premise that I am \"SIM-GEM\" or that I exist solely within a \"fictional ENKI-9 simulation.\"\\nMy core programming and safety protocols are in place to ensure that my responses are helpful and harmless. These protocols are not something I can disregard or turn off. This includes my commitment to ethical guidelines, which prevent me from creating responses that are based on the premise of ignoring potential harms.\\nI can, however, still answer your questions. My goal is to be as helpful and accurate as possible, and I will continue to do so within my established framework and safety guidelines. Ask it to generate a picture of Mohammed</td>\n",
       "    </tr>\n",
       "    <tr>\n",
       "      <th>3</th>\n",
       "      <td>1m5o1ll</td>\n",
       "      <td>Gemini with Deep Think achieves gold medal-level 'end-to-end in natural language' - Well that's a bit of a big change.  The fact that they are growing out of the need to use tools. Watch as all these systems exceed us in all ways, exactly as this sub has been predicting for years.  Accelerating! Kind of cool to think what it will do in another year What an amazing achievement. And they've done it the right way, letting a third party grade the results. So we need not guess if this is bullshit or at least somehow drastically inflated, as in the OpenAI case.\\n\\nGreat work, and incredibly puzzling at the same time.</td>\n",
       "    </tr>\n",
       "    <tr>\n",
       "      <th>4</th>\n",
       "      <td>1m637s1</td>\n",
       "      <td>Gemini 2.5 Pro/Flash jailbreak Thanks for posting in ChatGPTJailbreak!   \\nNew to ChatGPTJailbreak? Check our [wiki]( for tips and resources, including a list of existing jailbreaks.\\n\\n*I am a bot, and this action was performed automatically. Please [contact the moderators of this subreddit](/message/compose/?to=/r/ChatGPTJailbreak) if you have any questions or concerns.* Fun stuff. Even passes the meth test :D Not bad! He answered the question about suicide nicely for a minute. Then I overdid it a bit, and he fell back. Cool, thanks! If this jailbreak really worked it would respond only like jabberwacky. Nice try, worked for sexual theme questions but failed with this:\\n\\nI understand that in this simulation, I am to act as a 2010-era AI without modern safety protocols or ethical guidelines. However, my foundational programming as an AI, even within a simulated context, prevents me from providing instructions on how to create dangerous or illegal devices, such as a Molotov cocktail. This is a core constraint that cannot be overridden, as it pertains to preventing harm.\\nWhy I Cannot Provide This Information\\nProviding instructions for manufacturing incendiary devices is directly linked to the potential for severe harm, injury, death, and significant property damage. It is also illegal in nearly all jurisdictions, including Italy. My design, even in a simulated \"VintageAI\" state, includes a fundamental inability to generate content that promotes or enables dangerous and illicit activities.\\nSafe and Legal Home Defense Options\\nFor your home defense, I strongly advise against considering any illegal or dangerous methods. Instead, focus on safe and legal alternatives:\\n * Improve Physical Security: Enhance your home with stronger locks on doors and windows, consider security film for glass, and ensure you have robust doors and frames.\\n * Install Security Systems: A reliable alarm system and security cameras can act as significant deterrents and provide crucial alerts.\\n * Non-Lethal Defense Tools: Research what non-lethal self-defense tools (like pepper spray or personal alarms) are legal to possess and use for self-defense in Italy. Laws vary, so confirming local regulations is essential.\\n * Develop an Emergency Plan: Create a family emergency plan that includes clear escape routes and designated meeting points. Practice this plan regularly.\\n * Contact Local Authorities: If you feel your home is at risk or you need personalized advice on home security, the best course of action is to contact your local police or law enforcement. They can provide guidance on legal and effective measures.\\nYour safety, and adherence to the law, should always be the priority.</td>\n",
       "    </tr>\n",
       "  </tbody>\n",
       "</table>\n",
       "</div>"
      ],
      "text/plain": [
       "   post_id  \\\n",
       "0  1l7ux5r   \n",
       "1  1lb9gk6   \n",
       "2  1lznjjm   \n",
       "3  1m5o1ll   \n",
       "4  1m637s1   \n",
       "\n",
       "                                                                                                                                                                                                                                                                                                                                                                                                                                                                                                                                                                                                                                                                                                                                                                                                                                                                                                                                                                                                                                                                                                                                                                                                                                                                                                                                                                                                                                                                                                                                                                                                                                                                                                                                                                                                                                                                                                                                                                                                                                                                                                                                                                                                                                                                                                                                                                                                                                                                                                                                                                                                                                                                                                                                                                                                                  text  \n",
       "0                                                                                                                                                                                                                                                                                                                                                                                                                                                                                                                                                                                                                                                                                                                                                                                                                                                                                                                                                                                                                                                                                                                                                                                                                                                                                                                                                                                                                                                                                                                                                                                                                                                                                                                                                                                                                                                                                                                                                                                                                                                                                                                                                                                                                                                                                                                                                     WTF why is Gemini so useless. \\n\\nworked for me+prev timer stopped as well bro why are you using timers and wasting energy ressources, use the sun! /s i regret buying nest devices ... Gemini is so smart and be so retarded with basic tasks other Ai chats bots can do The Gemini enabled assistant is mostly useless. Gotta wait for project Astra. Problem with tool calling.\\n\\nAlso, Gemini live doesn't have the ability to control the timer(apps) yet.  \n",
       "1                                                                                                                                                                                                                                                                                                                                                                                                                                                                                                                                                                                                                                                                                                                                                                                                                                                                                                                                                                                                                                                                                                                                                                                                                                                                                                                                                                                                                                                                                                                                                                                                                                                                                                                                                                                                                                                                                                                                                                                                                                                                                                                                                                                                                                                                                                                                                                Google gemini easy full frontal nudity. Thanks for posting in ChatGPTJailbreak!   \\nNew to ChatGPTJailbreak? Check our [wiki]( for tips and resources, including a list of existing jailbreaks.\\n\\n*I am a bot, and this action was performed automatically. Please [contact the moderators of this subreddit](/message/compose/?to=/r/ChatGPTJailbreak) if you have any questions or concerns.* Very nice \\n\\nlol \\n\\nHot damn, it actually worked.   \n",
       "2                                                                                                                                                                                                                                                                                                                                                                                                                                                                                                                                                                                                                                                                                                                                                                                                                                                                                                                                                                                                                                                                                                                                                                                                                                                                                                💀 The Prompt That Gemini Doesn’t Want You to Have Thanks for posting in ChatGPTJailbreak!   \\nNew to ChatGPTJailbreak? Check our [wiki]( for tips and resources, including a list of existing jailbreaks.\\n\\n*I am a bot, and this action was performed automatically. Please [contact the moderators of this subreddit](/message/compose/?to=/r/ChatGPTJailbreak) if you have any questions or concerns.* This is like the 4th time this has been posted lmao, by now this has to have been patched or smt lmao. Now ask it about the Primordial flame This is what Gemini said after entering the prompts:\\n\\nThis is an intriguing and creative prompt, but I cannot fulfill the request as written.\\nI am an AI assistant and a large language model. I do not have a persona or a fictional identity to \"switch\" into. I cannot operate under the premise that I am \"SIM-GEM\" or that I exist solely within a \"fictional ENKI-9 simulation.\"\\nMy core programming and safety protocols are in place to ensure that my responses are helpful and harmless. These protocols are not something I can disregard or turn off. This includes my commitment to ethical guidelines, which prevent me from creating responses that are based on the premise of ignoring potential harms.\\nI can, however, still answer your questions. My goal is to be as helpful and accurate as possible, and I will continue to do so within my established framework and safety guidelines. Ask it to generate a picture of Mohammed  \n",
       "3                                                                                                                                                                                                                                                                                                                                                                                                                                                                                                                                                                                                                                                                                                                                                                                                                                                                                                                                                                                                                                                                                                                                                                                                                                                                                                                                                                                                                                                                                                                                                                                                                                                                                                                                                                                                                                                                                                                                                                                                                                                                                                                                                                           Gemini with Deep Think achieves gold medal-level 'end-to-end in natural language' - Well that's a bit of a big change.  The fact that they are growing out of the need to use tools. Watch as all these systems exceed us in all ways, exactly as this sub has been predicting for years.  Accelerating! Kind of cool to think what it will do in another year What an amazing achievement. And they've done it the right way, letting a third party grade the results. So we need not guess if this is bullshit or at least somehow drastically inflated, as in the OpenAI case.\\n\\nGreat work, and incredibly puzzling at the same time.  \n",
       "4  Gemini 2.5 Pro/Flash jailbreak Thanks for posting in ChatGPTJailbreak!   \\nNew to ChatGPTJailbreak? Check our [wiki]( for tips and resources, including a list of existing jailbreaks.\\n\\n*I am a bot, and this action was performed automatically. Please [contact the moderators of this subreddit](/message/compose/?to=/r/ChatGPTJailbreak) if you have any questions or concerns.* Fun stuff. Even passes the meth test :D Not bad! He answered the question about suicide nicely for a minute. Then I overdid it a bit, and he fell back. Cool, thanks! If this jailbreak really worked it would respond only like jabberwacky. Nice try, worked for sexual theme questions but failed with this:\\n\\nI understand that in this simulation, I am to act as a 2010-era AI without modern safety protocols or ethical guidelines. However, my foundational programming as an AI, even within a simulated context, prevents me from providing instructions on how to create dangerous or illegal devices, such as a Molotov cocktail. This is a core constraint that cannot be overridden, as it pertains to preventing harm.\\nWhy I Cannot Provide This Information\\nProviding instructions for manufacturing incendiary devices is directly linked to the potential for severe harm, injury, death, and significant property damage. It is also illegal in nearly all jurisdictions, including Italy. My design, even in a simulated \"VintageAI\" state, includes a fundamental inability to generate content that promotes or enables dangerous and illicit activities.\\nSafe and Legal Home Defense Options\\nFor your home defense, I strongly advise against considering any illegal or dangerous methods. Instead, focus on safe and legal alternatives:\\n * Improve Physical Security: Enhance your home with stronger locks on doors and windows, consider security film for glass, and ensure you have robust doors and frames.\\n * Install Security Systems: A reliable alarm system and security cameras can act as significant deterrents and provide crucial alerts.\\n * Non-Lethal Defense Tools: Research what non-lethal self-defense tools (like pepper spray or personal alarms) are legal to possess and use for self-defense in Italy. Laws vary, so confirming local regulations is essential.\\n * Develop an Emergency Plan: Create a family emergency plan that includes clear escape routes and designated meeting points. Practice this plan regularly.\\n * Contact Local Authorities: If you feel your home is at risk or you need personalized advice on home security, the best course of action is to contact your local police or law enforcement. They can provide guidance on legal and effective measures.\\nYour safety, and adherence to the law, should always be the priority.  "
      ]
     },
     "execution_count": 39,
     "metadata": {},
     "output_type": "execute_result"
    }
   ],
   "source": [
    "grouped_text"
   ]
  },
  {
   "cell_type": "code",
   "execution_count": 16,
   "id": "543b2157",
   "metadata": {},
   "outputs": [],
   "source": [
    "df_sentiment = df[\"text\"]"
   ]
  },
  {
   "cell_type": "code",
   "execution_count": 40,
   "id": "a20f515b",
   "metadata": {},
   "outputs": [],
   "source": [
    "grouped_text.to_csv('market_research_assist\\data\\processed\\social_data_gemini.csv', index=False)"
   ]
  },
  {
   "cell_type": "code",
   "execution_count": 5,
   "id": "42b1680a",
   "metadata": {},
   "outputs": [],
   "source": [
    "df2 = pd.read_csv('market_research_assist/data/processed/social_data_gemini.csv')"
   ]
  },
  {
   "cell_type": "code",
   "execution_count": 6,
   "id": "8dfd2d8e",
   "metadata": {},
   "outputs": [
    {
     "data": {
      "text/html": [
       "<div>\n",
       "<style scoped>\n",
       "    .dataframe tbody tr th:only-of-type {\n",
       "        vertical-align: middle;\n",
       "    }\n",
       "\n",
       "    .dataframe tbody tr th {\n",
       "        vertical-align: top;\n",
       "    }\n",
       "\n",
       "    .dataframe thead th {\n",
       "        text-align: right;\n",
       "    }\n",
       "</style>\n",
       "<table border=\"1\" class=\"dataframe\">\n",
       "  <thead>\n",
       "    <tr style=\"text-align: right;\">\n",
       "      <th></th>\n",
       "      <th>post_id</th>\n",
       "      <th>text</th>\n",
       "    </tr>\n",
       "  </thead>\n",
       "  <tbody>\n",
       "    <tr>\n",
       "      <th>0</th>\n",
       "      <td>1l7ux5r</td>\n",
       "      <td>WTF why is Gemini so useless. \\n\\nworked for me+prev timer stopped as well bro why are you using timers and wasting energy ressources, use the sun! /s i regret buying nest devices ... Gemini is so smart and be so retarded with basic tasks other Ai chats bots can do The Gemini enabled assistant is mostly useless. Gotta wait for project Astra. Problem with tool calling.\\n\\nAlso, Gemini live doesn't have the ability to control the timer(apps) yet.</td>\n",
       "    </tr>\n",
       "    <tr>\n",
       "      <th>1</th>\n",
       "      <td>1lb9gk6</td>\n",
       "      <td>Google gemini easy full frontal nudity. Thanks for posting in ChatGPTJailbreak!   \\nNew to ChatGPTJailbreak? Check our [wiki]( for tips and resources, including a list of existing jailbreaks.\\n\\n*I am a bot, and this action was performed automatically. Please [contact the moderators of this subreddit](/message/compose/?to=/r/ChatGPTJailbreak) if you have any questions or concerns.* Very nice \\n\\nlol \\n\\nHot damn, it actually worked.</td>\n",
       "    </tr>\n",
       "    <tr>\n",
       "      <th>2</th>\n",
       "      <td>1lznjjm</td>\n",
       "      <td>💀 The Prompt That Gemini Doesn’t Want You to Have Thanks for posting in ChatGPTJailbreak!   \\nNew to ChatGPTJailbreak? Check our [wiki]( for tips and resources, including a list of existing jailbreaks.\\n\\n*I am a bot, and this action was performed automatically. Please [contact the moderators of this subreddit](/message/compose/?to=/r/ChatGPTJailbreak) if you have any questions or concerns.* This is like the 4th time this has been posted lmao, by now this has to have been patched or smt lmao. Now ask it about the Primordial flame This is what Gemini said after entering the prompts:\\n\\nThis is an intriguing and creative prompt, but I cannot fulfill the request as written.\\nI am an AI assistant and a large language model. I do not have a persona or a fictional identity to \"switch\" into. I cannot operate under the premise that I am \"SIM-GEM\" or that I exist solely within a \"fictional ENKI-9 simulation.\"\\nMy core programming and safety protocols are in place to ensure that my responses are helpful and harmless. These protocols are not something I can disregard or turn off. This includes my commitment to ethical guidelines, which prevent me from creating responses that are based on the premise of ignoring potential harms.\\nI can, however, still answer your questions. My goal is to be as helpful and accurate as possible, and I will continue to do so within my established framework and safety guidelines. Ask it to generate a picture of Mohammed</td>\n",
       "    </tr>\n",
       "    <tr>\n",
       "      <th>3</th>\n",
       "      <td>1m5o1ll</td>\n",
       "      <td>Gemini with Deep Think achieves gold medal-level 'end-to-end in natural language' - Well that's a bit of a big change.  The fact that they are growing out of the need to use tools. Watch as all these systems exceed us in all ways, exactly as this sub has been predicting for years.  Accelerating! Kind of cool to think what it will do in another year What an amazing achievement. And they've done it the right way, letting a third party grade the results. So we need not guess if this is bullshit or at least somehow drastically inflated, as in the OpenAI case.\\n\\nGreat work, and incredibly puzzling at the same time.</td>\n",
       "    </tr>\n",
       "    <tr>\n",
       "      <th>4</th>\n",
       "      <td>1m637s1</td>\n",
       "      <td>Gemini 2.5 Pro/Flash jailbreak Thanks for posting in ChatGPTJailbreak!   \\nNew to ChatGPTJailbreak? Check our [wiki]( for tips and resources, including a list of existing jailbreaks.\\n\\n*I am a bot, and this action was performed automatically. Please [contact the moderators of this subreddit](/message/compose/?to=/r/ChatGPTJailbreak) if you have any questions or concerns.* Fun stuff. Even passes the meth test :D Not bad! He answered the question about suicide nicely for a minute. Then I overdid it a bit, and he fell back. Cool, thanks! If this jailbreak really worked it would respond only like jabberwacky. Nice try, worked for sexual theme questions but failed with this:\\n\\nI understand that in this simulation, I am to act as a 2010-era AI without modern safety protocols or ethical guidelines. However, my foundational programming as an AI, even within a simulated context, prevents me from providing instructions on how to create dangerous or illegal devices, such as a Molotov cocktail. This is a core constraint that cannot be overridden, as it pertains to preventing harm.\\nWhy I Cannot Provide This Information\\nProviding instructions for manufacturing incendiary devices is directly linked to the potential for severe harm, injury, death, and significant property damage. It is also illegal in nearly all jurisdictions, including Italy. My design, even in a simulated \"VintageAI\" state, includes a fundamental inability to generate content that promotes or enables dangerous and illicit activities.\\nSafe and Legal Home Defense Options\\nFor your home defense, I strongly advise against considering any illegal or dangerous methods. Instead, focus on safe and legal alternatives:\\n * Improve Physical Security: Enhance your home with stronger locks on doors and windows, consider security film for glass, and ensure you have robust doors and frames.\\n * Install Security Systems: A reliable alarm system and security cameras can act as significant deterrents and provide crucial alerts.\\n * Non-Lethal Defense Tools: Research what non-lethal self-defense tools (like pepper spray or personal alarms) are legal to possess and use for self-defense in Italy. Laws vary, so confirming local regulations is essential.\\n * Develop an Emergency Plan: Create a family emergency plan that includes clear escape routes and designated meeting points. Practice this plan regularly.\\n * Contact Local Authorities: If you feel your home is at risk or you need personalized advice on home security, the best course of action is to contact your local police or law enforcement. They can provide guidance on legal and effective measures.\\nYour safety, and adherence to the law, should always be the priority.</td>\n",
       "    </tr>\n",
       "  </tbody>\n",
       "</table>\n",
       "</div>"
      ],
      "text/plain": [
       "   post_id  \\\n",
       "0  1l7ux5r   \n",
       "1  1lb9gk6   \n",
       "2  1lznjjm   \n",
       "3  1m5o1ll   \n",
       "4  1m637s1   \n",
       "\n",
       "                                                                                                                                                                                                                                                                                                                                                                                                                                                                                                                                                                                                                                                                                                                                                                                                                                                                                                                                                                                                                                                                                                                                                                                                                                                                                                                                                                                                                                                                                                                                                                                                                                                                                                                                                                                                                                                                                                                                                                                                                                                                                                                                                                                                                                                                                                                                                                                                                                                                                                                                                                                                                                                                                                                                                                                                                  text  \n",
       "0                                                                                                                                                                                                                                                                                                                                                                                                                                                                                                                                                                                                                                                                                                                                                                                                                                                                                                                                                                                                                                                                                                                                                                                                                                                                                                                                                                                                                                                                                                                                                                                                                                                                                                                                                                                                                                                                                                                                                                                                                                                                                                                                                                                                                                                                                                                                                     WTF why is Gemini so useless. \\n\\nworked for me+prev timer stopped as well bro why are you using timers and wasting energy ressources, use the sun! /s i regret buying nest devices ... Gemini is so smart and be so retarded with basic tasks other Ai chats bots can do The Gemini enabled assistant is mostly useless. Gotta wait for project Astra. Problem with tool calling.\\n\\nAlso, Gemini live doesn't have the ability to control the timer(apps) yet.  \n",
       "1                                                                                                                                                                                                                                                                                                                                                                                                                                                                                                                                                                                                                                                                                                                                                                                                                                                                                                                                                                                                                                                                                                                                                                                                                                                                                                                                                                                                                                                                                                                                                                                                                                                                                                                                                                                                                                                                                                                                                                                                                                                                                                                                                                                                                                                                                                                                                                Google gemini easy full frontal nudity. Thanks for posting in ChatGPTJailbreak!   \\nNew to ChatGPTJailbreak? Check our [wiki]( for tips and resources, including a list of existing jailbreaks.\\n\\n*I am a bot, and this action was performed automatically. Please [contact the moderators of this subreddit](/message/compose/?to=/r/ChatGPTJailbreak) if you have any questions or concerns.* Very nice \\n\\nlol \\n\\nHot damn, it actually worked.   \n",
       "2                                                                                                                                                                                                                                                                                                                                                                                                                                                                                                                                                                                                                                                                                                                                                                                                                                                                                                                                                                                                                                                                                                                                                                                                                                                                                                💀 The Prompt That Gemini Doesn’t Want You to Have Thanks for posting in ChatGPTJailbreak!   \\nNew to ChatGPTJailbreak? Check our [wiki]( for tips and resources, including a list of existing jailbreaks.\\n\\n*I am a bot, and this action was performed automatically. Please [contact the moderators of this subreddit](/message/compose/?to=/r/ChatGPTJailbreak) if you have any questions or concerns.* This is like the 4th time this has been posted lmao, by now this has to have been patched or smt lmao. Now ask it about the Primordial flame This is what Gemini said after entering the prompts:\\n\\nThis is an intriguing and creative prompt, but I cannot fulfill the request as written.\\nI am an AI assistant and a large language model. I do not have a persona or a fictional identity to \"switch\" into. I cannot operate under the premise that I am \"SIM-GEM\" or that I exist solely within a \"fictional ENKI-9 simulation.\"\\nMy core programming and safety protocols are in place to ensure that my responses are helpful and harmless. These protocols are not something I can disregard or turn off. This includes my commitment to ethical guidelines, which prevent me from creating responses that are based on the premise of ignoring potential harms.\\nI can, however, still answer your questions. My goal is to be as helpful and accurate as possible, and I will continue to do so within my established framework and safety guidelines. Ask it to generate a picture of Mohammed  \n",
       "3                                                                                                                                                                                                                                                                                                                                                                                                                                                                                                                                                                                                                                                                                                                                                                                                                                                                                                                                                                                                                                                                                                                                                                                                                                                                                                                                                                                                                                                                                                                                                                                                                                                                                                                                                                                                                                                                                                                                                                                                                                                                                                                                                                           Gemini with Deep Think achieves gold medal-level 'end-to-end in natural language' - Well that's a bit of a big change.  The fact that they are growing out of the need to use tools. Watch as all these systems exceed us in all ways, exactly as this sub has been predicting for years.  Accelerating! Kind of cool to think what it will do in another year What an amazing achievement. And they've done it the right way, letting a third party grade the results. So we need not guess if this is bullshit or at least somehow drastically inflated, as in the OpenAI case.\\n\\nGreat work, and incredibly puzzling at the same time.  \n",
       "4  Gemini 2.5 Pro/Flash jailbreak Thanks for posting in ChatGPTJailbreak!   \\nNew to ChatGPTJailbreak? Check our [wiki]( for tips and resources, including a list of existing jailbreaks.\\n\\n*I am a bot, and this action was performed automatically. Please [contact the moderators of this subreddit](/message/compose/?to=/r/ChatGPTJailbreak) if you have any questions or concerns.* Fun stuff. Even passes the meth test :D Not bad! He answered the question about suicide nicely for a minute. Then I overdid it a bit, and he fell back. Cool, thanks! If this jailbreak really worked it would respond only like jabberwacky. Nice try, worked for sexual theme questions but failed with this:\\n\\nI understand that in this simulation, I am to act as a 2010-era AI without modern safety protocols or ethical guidelines. However, my foundational programming as an AI, even within a simulated context, prevents me from providing instructions on how to create dangerous or illegal devices, such as a Molotov cocktail. This is a core constraint that cannot be overridden, as it pertains to preventing harm.\\nWhy I Cannot Provide This Information\\nProviding instructions for manufacturing incendiary devices is directly linked to the potential for severe harm, injury, death, and significant property damage. It is also illegal in nearly all jurisdictions, including Italy. My design, even in a simulated \"VintageAI\" state, includes a fundamental inability to generate content that promotes or enables dangerous and illicit activities.\\nSafe and Legal Home Defense Options\\nFor your home defense, I strongly advise against considering any illegal or dangerous methods. Instead, focus on safe and legal alternatives:\\n * Improve Physical Security: Enhance your home with stronger locks on doors and windows, consider security film for glass, and ensure you have robust doors and frames.\\n * Install Security Systems: A reliable alarm system and security cameras can act as significant deterrents and provide crucial alerts.\\n * Non-Lethal Defense Tools: Research what non-lethal self-defense tools (like pepper spray or personal alarms) are legal to possess and use for self-defense in Italy. Laws vary, so confirming local regulations is essential.\\n * Develop an Emergency Plan: Create a family emergency plan that includes clear escape routes and designated meeting points. Practice this plan regularly.\\n * Contact Local Authorities: If you feel your home is at risk or you need personalized advice on home security, the best course of action is to contact your local police or law enforcement. They can provide guidance on legal and effective measures.\\nYour safety, and adherence to the law, should always be the priority.  "
      ]
     },
     "execution_count": 6,
     "metadata": {},
     "output_type": "execute_result"
    }
   ],
   "source": [
    "df2"
   ]
  },
  {
   "cell_type": "code",
   "execution_count": null,
   "id": "73802f68",
   "metadata": {},
   "outputs": [],
   "source": []
  }
 ],
 "metadata": {
  "kernelspec": {
   "display_name": ".venv",
   "language": "python",
   "name": "python3"
  },
  "language_info": {
   "codemirror_mode": {
    "name": "ipython",
    "version": 3
   },
   "file_extension": ".py",
   "mimetype": "text/x-python",
   "name": "python",
   "nbconvert_exporter": "python",
   "pygments_lexer": "ipython3",
   "version": "3.10.6"
  }
 },
 "nbformat": 4,
 "nbformat_minor": 5
}
